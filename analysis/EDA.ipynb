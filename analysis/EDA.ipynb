{
 "cells": [
  {
   "cell_type": "code",
   "execution_count": 1,
   "id": "095846bf",
   "metadata": {},
   "outputs": [
    {
     "name": "stdout",
     "output_type": "stream",
     "text": [
      "Jay Ganesh\n"
     ]
    }
   ],
   "source": [
    "print(\"Jay Ganesh\")"
   ]
  },
  {
   "cell_type": "code",
   "execution_count": 24,
   "id": "dccf4dff",
   "metadata": {},
   "outputs": [
    {
     "name": "stdout",
     "output_type": "stream",
     "text": [
      "['ABC', 'MissingValuesAnalysisTemplate', '__builtins__', '__cached__', '__doc__', '__file__', '__loader__', '__name__', '__package__', '__spec__', 'abstractmethod', 'pd', 'plt', 'simpleMissingValuesAnalysis', 'sns']\n"
     ]
    }
   ],
   "source": [
    "import analysis_sync.missing_values_analysis as mva\n",
    "print(dir(mva))\n"
   ]
  },
  {
   "cell_type": "code",
   "execution_count": 26,
   "id": "ef0c1f0a",
   "metadata": {},
   "outputs": [],
   "source": [
    "import pandas as pd\n",
    "import numpy as np\n",
    "\n",
    "from analysis_sync.basic_data_inspection import DataInspector, DataTypeInspectionStrategy, SummaryStatisticsInspectionStrategy\n",
    "from analysis_sync.missing_values_analysis import simpleMissingValuesAnalysis\n",
    "from analysis_sync.univariate_analysis import UnivariateAnalyzer, NumericalUnivariateAnalysis, CategoricalUnivariateAnalysis\n",
    "from analysis_sync.bivariate_analysis import BivariateAnalyzer, NumericalVsNumericalAnalysis, CategoricalVsNumericalAnalysis\n",
    "from analysis_sync.multivariate_analysis import SimpleMultivariateAnalysis\n",
    "\n",
    "# # Set display options for better readability\n",
    "pd.set_option('display.max_columns', None)\n",
    "pd.set_option('display.max_rows', 100)"
   ]
  },
  {
   "cell_type": "code",
   "execution_count": 17,
   "id": "6b775d2d",
   "metadata": {},
   "outputs": [],
   "source": [
    "# Load the data\n",
    "# Assuming you have already extracted the data into the 'extracted-data' folder\n",
    "\n",
    "data_path = '../extracted_data/AmesHousing.csv'\n",
    "df = pd.read_csv(data_path)"
   ]
  },
  {
   "cell_type": "code",
   "execution_count": null,
   "id": "a2628348",
   "metadata": {},
   "outputs": [],
   "source": []
  }
 ],
 "metadata": {
  "kernelspec": {
   "display_name": "myenv",
   "language": "python",
   "name": "python3"
  },
  "language_info": {
   "codemirror_mode": {
    "name": "ipython",
    "version": 3
   },
   "file_extension": ".py",
   "mimetype": "text/x-python",
   "name": "python",
   "nbconvert_exporter": "python",
   "pygments_lexer": "ipython3",
   "version": "3.11.13"
  }
 },
 "nbformat": 4,
 "nbformat_minor": 5
}
